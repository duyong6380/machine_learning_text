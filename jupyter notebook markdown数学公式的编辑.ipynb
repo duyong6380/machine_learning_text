{
 "cells": [
  {
   "cell_type": "markdown",
   "metadata": {},
   "source": [
    " 主要的url地址是：https://www.cnblogs.com/laoduan/p/7641698.html\n",
    "\n",
    " 上标和下标公式：$y = a_{ij}^2$\n",
    " \n",
    " 求和公式： $\\sum_{i=0}^{n}(x_i^2 + y_j^3)$\n",
    " \n",
    " 分数：$\\cfrac{1}{3} - \\frac{x_i^2}{y_j^3}$\n",
    " "
   ]
  },
  {
   "cell_type": "markdown",
   "metadata": {},
   "source": [
    "矩阵:$ \\left[ \\begin{array} {cccc}\n",
    "X_1&Y_1^2\\\\\n",
    "X_2 & Y_2^2\\\\\n",
    "\\ldots \\\\\n",
    "X_n&Y_n^2\n",
    "\\end{array} \\right] $\n",
    "\n",
    "\n",
    "开方：$ \\sqrt[2]{b^2-4ac}$\n",
    "\n",
    "\n",
    "省略号：\\ldots 　与底线对齐的省略号，\\cdots 与中线对齐省略号。\n",
    "$$ f(x_1,x_2,\\ldots,x_i) = x_1+x_2+\\cdots + x_i $$\n",
    "\n",
    "\n",
    "大括号：\\{ \\}\n",
    "$$ x + \\left(y^2 + \\frac{x^2+z}{1+z^2}\\right)  $$\n"
   ]
  },
  {
   "cell_type": "markdown",
   "metadata": {},
   "source": [
    "多行数据公式：\n",
    "$$ \\begin{eqnarray*}\n",
    "\\cos 2 \\theta & = & \\cos^2 \\theta - \\sin^2 \\theta\\\\\n",
    "&=& 2\\cos^2 \\theta - 1 \\end{eqnarray*}$$"
   ]
  },
  {
   "cell_type": "markdown",
   "metadata": {},
   "source": [
    "$$ \\begin{eqnarray*}\n",
    "\\cos 2 \\theta & = & \\cos^2 \\theta - \\sin^2 \\theta\\\\\n",
    "&=& 2\\cos^2 \\theta - 1 \\end{eqnarray*}$$"
   ]
  }
 ],
 "metadata": {
  "kernelspec": {
   "display_name": "Python3.6.4",
   "language": "python",
   "name": "python3"
  },
  "language_info": {
   "codemirror_mode": {
    "name": "ipython",
    "version": 3
   },
   "file_extension": ".py",
   "mimetype": "text/x-python",
   "name": "python",
   "nbconvert_exporter": "python",
   "pygments_lexer": "ipython3",
   "version": "3.6.4"
  }
 },
 "nbformat": 4,
 "nbformat_minor": 2
}
