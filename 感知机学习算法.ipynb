{
 "cells": [
  {
   "cell_type": "markdown",
   "metadata": {},
   "source": [
    "## 2、感知机学习算法"
   ]
  },
  {
   "cell_type": "markdown",
   "metadata": {},
   "source": [
    "主要是求解损失函数的最小值：\n",
    "$$\\min \\limits_{w,b} L(w,b)=-\\sum_{x_i\\in M}y_i(w\\centerdot x_i +b)$$\n",
    "其中M属于误分类点的集合。\n",
    "\n",
    "下面是算法的实现："
   ]
  },
  {
   "cell_type": "code",
   "execution_count": 40,
   "metadata": {},
   "outputs": [
    {
     "name": "stdout",
     "output_type": "stream",
     "text": [
      "[[3. 3.]] [1]\n",
      "[[2. 2.]] [0]\n",
      "[[1. 1.]] [-1]\n",
      "[[0. 0.]] [-2]\n",
      "[[3. 3.]] [-1]\n",
      "[[2. 2.]] [-2]\n",
      "[[1. 1.]] [-3]\n",
      "(matrix([[1., 1.]]), array([-3]))\n"
     ]
    }
   ],
   "source": [
    "\n",
    "from numpy import *\n",
    "import sys\n",
    "def loadset():\n",
    "    data = array([[3,3,1],[4,3,1],[1,1,-1]])\n",
    "    return data\n",
    "\n",
    "def perceptron(dataset):\n",
    "    '''\n",
    "        @brief:感知机算法主实现\n",
    "    '''\n",
    "    n = len(dataset)\n",
    "    w = zeros((1,n-1));b = 0;a = 1\n",
    "    end_status = False\n",
    "    while end_status == False:\n",
    "        for record in dataset:\n",
    "            end_status = True\n",
    "            yi = record[-1:]\n",
    "            mat_re = mat(record[:-1])\n",
    "            tmp_result = yi*(w*mat_re.T + b)\n",
    "            if tmp_result <= 0:\n",
    "                w = w + a * yi * mat_re\n",
    "                b = b + a * yi\n",
    "                end_status = False\n",
    "                print(w,b)\n",
    "    return w,b\n",
    "        \n",
    "        \n",
    "    \n",
    "    \n",
    "def main():\n",
    "    data = loadset()\n",
    "    print(perceptron(data))\n",
    "    \n",
    "if __name__ == \"__main__\":\n",
    "    main()"
   ]
  },
  {
   "cell_type": "code",
   "execution_count": null,
   "metadata": {},
   "outputs": [],
   "source": []
  }
 ],
 "metadata": {
  "kernelspec": {
   "display_name": "Python3.6.4",
   "language": "python",
   "name": "python3"
  },
  "language_info": {
   "codemirror_mode": {
    "name": "ipython",
    "version": 3
   },
   "file_extension": ".py",
   "mimetype": "text/x-python",
   "name": "python",
   "nbconvert_exporter": "python",
   "pygments_lexer": "ipython3",
   "version": "3.6.4"
  }
 },
 "nbformat": 4,
 "nbformat_minor": 2
}
