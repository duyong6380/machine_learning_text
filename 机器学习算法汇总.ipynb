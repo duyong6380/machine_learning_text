{
 "cells": [
  {
   "cell_type": "markdown",
   "metadata": {},
   "source": [
    "## 1、 K-近邻算法"
   ]
  },
  {
   "cell_type": "code",
   "execution_count": null,
   "metadata": {},
   "outputs": [],
   "source": [
    "from sklearn import datasets\n",
    "from sklearn.neighbors import KNeighborsClassifier\n",
    "from sklearn.model_selection import train_test_split\n",
    "from sklearn import metrics\n",
    "import sys\n",
    "import matplotlib.pyplot as plt\n",
    "\n",
    "%matplotlib inline\n",
    "\n",
    "#print(help(train_test_split))\n",
    "\n",
    "\n",
    "x, y = datasets.make_classification(n_samples=1000, n_features=100, n_redundant=0, random_state = 1)\n",
    "train_X, test_X, train_Y, test_Y = train_test_split(x,y,test_size=0.2,random_state=66)\n",
    "\n",
    "knn=KNeighborsClassifier(n_neighbors=5)\n",
    "knn.fit(train_X,train_Y)\n",
    "pred_Y =knn.predict(test_X)\n",
    "\n",
    "print(\"confusion_matrix:\")\n",
    "print(metrics.confusion_matrix(test_Y, pred_Y))\n",
    "\n",
    "\n",
    "print(\"recall_score:\")\n",
    "print(metrics.recall_score(test_Y, pred_Y))\n",
    "print(\"precision_score:\")\n",
    "print(metrics.precision_score(test_Y, pred_Y))\n",
    "\n",
    "\n",
    "print(\"accuracy_score:\")\n",
    "print(metrics.accuracy_score(test_Y, pred_Y))\n",
    "print(\"f1_score:\")\n",
    "print(metrics.f1_score(test_Y, pred_Y))\n",
    "\n",
    "\n",
    "fpos, tpos, thresh = metrics.roc_curve(test_Y, pred_Y) \n",
    "\n",
    "\n",
    "auc_area = metrics.auc(fpos, tpos)\n",
    "\n",
    "\n",
    "plt.plot(fpos, tpos, 'darkorange', lw=2, label='AUC = %.2f' % auc_area)\n",
    "plt.legend(loc='lower right') \n",
    "plt.plot([0, 1], [0, 1], color='navy', linestyle='--') \n",
    "plt.title('ROC') \n",
    "plt.ylabel('True Pos Rate') \n",
    "plt.xlabel('False Pos Rate') \n",
    "plt.show()\n",
    "print(\"AUC:\")\n",
    "print(metrics.roc_auc_score(test_Y, pred_Y))"
   ]
  },
  {
   "cell_type": "markdown",
   "metadata": {},
   "source": [
    "## 2、感知机学习算法"
   ]
  },
  {
   "cell_type": "markdown",
   "metadata": {},
   "source": [
    "   ### 2.1 原始形式"
   ]
  },
  {
   "cell_type": "markdown",
   "metadata": {},
   "source": [
    "原始形式是基本的形式，主要的表达式为    \n",
    "- f(x) = sign(w*x + b)"
   ]
  },
  {
   "cell_type": "code",
   "execution_count": 5,
   "metadata": {},
   "outputs": [
    {
     "name": "stdout",
     "output_type": "stream",
     "text": [
      "[[1.0, 1.1], [1.0, 1.0], [0.0, 0.0], [0.0, 0.1]] ['A', 'A', 'B', 'B']\n"
     ]
    }
   ],
   "source": [
    "import numpy as np\n",
    "def createDataSet():\n",
    "    group = np.array([[1.0,1.1],[1.0,1.0],[0,0],[0,0.1]])\n",
    "    labels = ['A','A','B','B']\n",
    "    return group, labels\n",
    "\n",
    "group, labels = createDataSet()\n",
    "print(group.tolist(), labels)"
   ]
  },
  {
   "cell_type": "code",
   "execution_count": null,
   "metadata": {},
   "outputs": [],
   "source": []
  }
 ],
 "metadata": {
  "kernelspec": {
   "display_name": "Python3.6.4",
   "language": "python",
   "name": "python3"
  },
  "language_info": {
   "codemirror_mode": {
    "name": "ipython",
    "version": 3
   },
   "file_extension": ".py",
   "mimetype": "text/x-python",
   "name": "python",
   "nbconvert_exporter": "python",
   "pygments_lexer": "ipython3",
   "version": "3.6.4"
  }
 },
 "nbformat": 4,
 "nbformat_minor": 2
}
